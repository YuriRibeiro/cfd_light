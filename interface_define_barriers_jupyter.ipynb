{
 "cells": [
  {
   "cell_type": "markdown",
   "metadata": {},
   "source": [
    "# Conveniência: Definir Barreiras de Contagem\n",
    "\n",
    "<hr>"
   ]
  },
  {
   "cell_type": "markdown",
   "metadata": {},
   "source": [
    "**Obter Input_Path para o vídeo/imagens a ser analisado via File Selector.**\n",
    "\n",
    "    1) Clique em Browse e vá até o vídeo/pasta desejado;\n",
    "\n",
    "    2) Clique com o botão direito do mouse sobre o vídeo/pasta desejado e clique em\n",
    "       'Copiar Localização' (Copy Location);\n",
    "   \n",
    "    3) Pressione ESC para sair da tela de seleção.\n",
    "\n",
    "    4) Insira a localização no Input_Path, pressionando CTRL+V.\n",
    "    \n",
    "    5) Run!\n",
    "    \n",
    "    6) Clique sobre a imagem para atualizar nas coordenadas desejadas;\n",
    "    \n",
    "    7) Utilize os botões para esfetuar as operações desejadas;\n",
    "    \n",
    "    8) Pressione 'Print Barrier Infos' para obter o resultado final.\n",
    "\n",
    "**OBS**:\n",
    "\n",
    "A) Arquivos aceitos:-(a) Uma única pasta contendo imagens (jpg, jpeg, png);\n",
    "                    -(b) Um único arquivo de vídeo (avi, mp4).\n",
    "                    \n",
    "B) Se for analisar outro vídeo, reinicialize o kernel.\n",
    "\n",
    "C) As coordenadas em 'Print Barrier Infos' são relativas às dimensões originais da imagem.\n",
    "\n",
    "<hr>"
   ]
  },
  {
   "cell_type": "code",
   "execution_count": null,
   "metadata": {
    "scrolled": false
   },
   "outputs": [],
   "source": [
    "import convenience_define_barriers_jupyter as db\n",
    "from IPython.display import HTML, Javascript\n",
    "x, y, coords = 0, 0, [(0,0), (0,0)]\n",
    "def update_coords(): coords[0] = coords[1]; coords[1] = (x,y)\n",
    "widgets = db.Widgets()    \n",
    "display(HTML(widgets.msg0),\n",
    "        widgets.file_selector,\n",
    "        widgets.input_path_widget,\n",
    "        widgets.input_path_button,\n",
    "        widgets.status_text_box_widget,\n",
    "        HTML(widgets.msg1),\n",
    "        HTML(widgets.frame_atual),\n",
    "        widgets.vbox1,\n",
    "        HTML(widgets.msg2),\n",
    "        widgets.vbox2)"
   ]
  }
 ],
 "metadata": {
  "kernelspec": {
   "display_name": "yv5_temp",
   "language": "python",
   "name": "yv5_temp"
  },
  "language_info": {
   "codemirror_mode": {
    "name": "ipython",
    "version": 3
   },
   "file_extension": ".py",
   "mimetype": "text/x-python",
   "name": "python",
   "nbconvert_exporter": "python",
   "pygments_lexer": "ipython3",
   "version": "3.9.0"
  },
  "metadata": {
   "interpreter": {
    "hash": "1af7dd3f9c6213cd354bf8ae22ab21251371079a4b88a2ccfcf0b6994a5363e8"
   }
  }
 },
 "nbformat": 4,
 "nbformat_minor": 2
}
