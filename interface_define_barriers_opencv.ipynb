{
 "cells": [
  {
   "cell_type": "markdown",
   "metadata": {},
   "source": [
    "# Conveniência: Definir Barreiras de Contagem Utilizando Interface do OpenCV (Apenas para ser usado em Máquina Local, não em computadores remotos)\n",
    "\n",
    "É necessário que se tenha o openCV instalado na máquina local.\n",
    "<hr>"
   ]
  },
  {
   "cell_type": "markdown",
   "metadata": {},
   "source": [
    "**Instruções**\n",
    "\n",
    "    1) Clique em Browse e vá até o vídeo/pasta desejado;\n",
    "\n",
    "    2) Clique com o botão direito do mouse sobre o vídeo/pasta desejado e clique em\n",
    "       'Copiar Localização' (Copy Location);\n",
    "   \n",
    "    3) Pressione ESC para sair da tela de seleção.\n",
    "\n",
    "    4) Insira a localização no Input_Path, pressionando CTRL+V.\n",
    "    \n",
    "    5) Run!\n",
    "    \n",
    "    6) Clique sobre a imagem para marcar as coordenadas das barreiras; Dois cliques consecutivos, em diferentes coordenadas, formam uma barreira.\n",
    "    \n",
    "    7) COMANDOS:\n",
    "        LEFT Mouse Button: Selecionar coordenadas da barreira;\n",
    "        MID Mouse Button: Seleciona a barreira cujo ponto médio está mais próximo da coordenada do clique. \n",
    "        \n",
    "        Arrows: Passa para o próximo frame (--->) ou para o frame anterior (<---)\n",
    "        Space: Passa para o frame seguinte.\n",
    "        f: Salvar frames de ínicio e fim da barreira;\n",
    "        d: Deletar barreira selecionada;\n",
    "        ESC: Sair e printar os resultados no campo Status.\n",
    "\n",
    "**OBS**:\n",
    "\n",
    "A) Arquivos aceitos:-(a) Uma única pasta contendo imagens (jpg, jpeg, png);\n",
    "                    -(b) Um único arquivo de vídeo (avi, mp4).\n",
    "                    \n",
    "B) As coordenadas em 'Print Barrier Infos' são relativas às dimensões originais da imagem.\n",
    "\n",
    "<hr>"
   ]
  },
  {
   "cell_type": "code",
   "execution_count": null,
   "metadata": {
    "scrolled": false
   },
   "outputs": [],
   "source": [
    "import convenience_define_barriers_opencv as db\n",
    "widgets = db.JupyterInterface()    \n",
    "display(widgets.file_selector,\n",
    "        widgets.input_path_widget,\n",
    "        widgets.input_path_button,\n",
    "        widgets.print_barrier_results_text)"
   ]
  }
 ],
 "metadata": {
  "kernelspec": {
   "display_name": "yv5_temp",
   "language": "python",
   "name": "yv5_temp"
  },
  "language_info": {
   "codemirror_mode": {
    "name": "ipython",
    "version": 3
   },
   "file_extension": ".py",
   "mimetype": "text/x-python",
   "name": "python",
   "nbconvert_exporter": "python",
   "pygments_lexer": "ipython3",
   "version": "3.9.0"
  },
  "metadata": {
   "interpreter": {
    "hash": "1af7dd3f9c6213cd354bf8ae22ab21251371079a4b88a2ccfcf0b6994a5363e8"
   }
  }
 },
 "nbformat": 4,
 "nbformat_minor": 2
}