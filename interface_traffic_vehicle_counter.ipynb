{
 "cells": [
  {
   "cell_type": "markdown",
   "metadata": {},
   "source": [
    "# Contador de Veículos\n",
    "<hr>"
   ]
  },
  {
   "cell_type": "markdown",
   "metadata": {},
   "source": [
    "**1) Conveniência: Input e Output Path**\n",
    "1) Clique em Browse e vá até o vídeo/pasta desejado;\n",
    "\n",
    "2) Clique com o botão direito do mouse sobre o vídeo/pasta desejado e clique em\n",
    "   'Copiar Localização' (Copy Location);   \n",
    "\n",
    "3) Pressione ESC para sair da tela de seleção.\n",
    "\n",
    "4) Insira a localização no Input_Path/ Output_Path, pressionando CTRL+V no local desejado.\n",
    "<br>\n",
    "<br>\n",
    "\n",
    "**Input Path Aceitos:**\n",
    "\n",
    "a) Uma única pasta contendo imagens (jpg, jpeg, png);\n",
    "\n",
    "b) Um único arquivo de vídeo (avi, mp4);\n",
    "\n",
    "c) Uma pasta contendo vídeos (avi, mp4);\n",
    "\n",
    "d) Uma pasta contendo pastas com imagens.\n",
    "<br>\n",
    "<br>\n",
    "\n",
    "**Ouput Path Aceito:**\n",
    "\n",
    "a) Output path deve ser um diretório vazio.\n",
    "\n",
    "Se o ouput path não existir, ele será criado automaticamente.\n",
    "<br>\n",
    "<br>\n",
    "\n",
    "**2) Conveniência: Definir Barreiras**\n",
    "\n",
    "Utilize um dos jupyter notebooks (interface_define_barriers_jupyter.ipynb OU interface_define_barriers_opencv.ipynb) para definir as barreiras de contagem.\n",
    "As barreiras devem ser definidas pelo usuário diretamente no código gerado.\n",
    "\n",
    "```python\n",
    "barriers = {\n",
    "            'movie_name1':[CountBarrier_object1, CountBarrier_object2, ...],\n",
    "            'movie_name2':[CountBarrier_object3, CountBarrier_object4, ...],\n",
    "            'movie_name3' : None\n",
    "            }\n",
    "```\n",
    "Ou, se não houver barreiras de contagem:\n",
    "```python\n",
    "barriers = None\n",
    "```\n",
    "\n",
    "<br>\n",
    "<br>\n",
    "\n",
    "**3) Por fim, selecione o detector e tracker, e transporte o código gerado em 'Code' para uma célula e rode o programa**\n",
    "\n",
    "Os parâmetros que aparecem no código são os parâmetros ótimos já testados anteriormente.\n",
    "<hr>"
   ]
  },
  {
   "cell_type": "code",
   "execution_count": null,
   "metadata": {
    "scrolled": false
   },
   "outputs": [],
   "source": [
    "import traffic_vehicle_counter as tvc\n",
    "from IPython.display import HTML, display\n",
    "widgets = tvc.JupyterInterface()    \n",
    "display(HTML('<hr>'), widgets.file_selector, widgets.input_path_widget, widgets.output_fopath_widget,\n",
    "       widgets.det_selector, widgets.tracker_selector, widgets.device_selector, HTML(widgets.msg0),\n",
    "        widgets.checkbox_vbox, widgets.parameters_box)"
   ]
  },
  {
   "cell_type": "markdown",
   "metadata": {},
   "source": [
    "**Copie o código gerado em uma célula e rode o programa...** Não esqueça de tirar o comentário de 'a.start()'para rodar...\n",
    "\n",
    "Verifique se input_path, ouput_path, e demais parâmetros estão corretos\n",
    "\n",
    "As barreira de contagem pode ser definida utilizando os jupyter notebooks interface_define_barriers_jupyter.ipynb OU interface_define_barriers_opencv\n",
    "\n",
    "**Definir a variável 'barriers' com as barreiras desejadas**\n",
    "<hr>"
   ]
  },
  {
   "cell_type": "code",
   "execution_count": null,
   "metadata": {},
   "outputs": [],
   "source": [
    "# Cole o código gerado em 'Python Code' nesta célula, por exemplo..."
   ]
  }
 ],
 "metadata": {
  "kernelspec": {
   "display_name": "env3",
   "language": "python",
   "name": "env3"
  },
  "language_info": {
   "codemirror_mode": {
    "name": "ipython",
    "version": 3
   },
   "file_extension": ".py",
   "mimetype": "text/x-python",
   "name": "python",
   "nbconvert_exporter": "python",
   "pygments_lexer": "ipython3",
   "version": "3.9.0"
  },
  "metadata": {
   "interpreter": {
    "hash": "1af7dd3f9c6213cd354bf8ae22ab21251371079a4b88a2ccfcf0b6994a5363e8"
   }
  }
 },
 "nbformat": 4,
 "nbformat_minor": 2
}
